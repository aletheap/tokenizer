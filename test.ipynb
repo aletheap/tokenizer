{
 "cells": [
  {
   "cell_type": "markdown",
   "metadata": {},
   "source": [
    "# My Tokenizer"
   ]
  },
  {
   "cell_type": "markdown",
   "metadata": {},
   "source": [
    "## Initial Setup"
   ]
  },
  {
   "cell_type": "markdown",
   "metadata": {},
   "source": [
    "### imports"
   ]
  },
  {
   "cell_type": "code",
   "execution_count": 1,
   "metadata": {},
   "outputs": [],
   "source": [
    "import cProfile\n",
    "import os\n",
    "import time\n",
    "from collections import Counter, defaultdict\n",
    "\n",
    "import matplotlib.pyplot as plt\n",
    "import numpy as np\n",
    "import torch\n",
    "from datasets import load_dataset\n",
    "\n",
    "# tqdm\n",
    "try:\n",
    "    if 'ZMQInteractiveShell' == get_ipython().__class__.__name__:\n",
    "        from tqdm.notebook import tqdm\n",
    "    else:\n",
    "        from tqdm import tqdm\n",
    "except NameError:\n",
    "    from tqdm import tqdm\n",
    "\n",
    "# torch\n",
    "if torch.cuda.is_available():\n",
    "    torch.set_default_device('cuda')\n",
    "#elif torch.backends.mps.is_available():\n",
    "#    torch.set_default_device('mps')\n",
    "else:\n",
    "    torch.set_default_device('cpu')"
   ]
  },
  {
   "cell_type": "markdown",
   "metadata": {},
   "source": [
    "### editable config"
   ]
  },
  {
   "cell_type": "code",
   "execution_count": 2,
   "metadata": {},
   "outputs": [],
   "source": [
    "MAX_VOCAB_SIZE: int = 10_000  # maximum size of vocab\n",
    "MAX_TOKEN_LEN: int = 40  # maximum length of token\n",
    "RANDOM_SEED = 42\n",
    "MAX_DATASET_EXAMPLES = 100 # 36_718\n",
    "\n",
    "MAX_ENTROPY = float(np.log2(MAX_VOCAB_SIZE))"
   ]
  },
  {
   "cell_type": "markdown",
   "metadata": {},
   "source": [
    "#### static config"
   ]
  },
  {
   "cell_type": "code",
   "execution_count": 3,
   "metadata": {},
   "outputs": [],
   "source": [
    "ASCII_PUNCTUATION = np.array([bytes([i]) for i in range(32,48)] + [bytes([i]) for i in range(58,65)] + [bytes([i]) for i in range(91,97)] + [bytes([i]) for i in range(123,127)])\n",
    "ASCII_DIGITS = np.array([bytes([i]) for i in range(48,58)])\n",
    "ASCII_LOWERCASE = np.array([bytes([i]) for i in range(97,123)])\n",
    "ASCII_UPPERCASE = np.array([bytes([i]) for i in range(65,91)])\n",
    "ASCII_CONTROL = np.array([bytes([i]) for i in range(0,32)])\n",
    "ASCII_OTHER = np.array([bytes([i]) for i in range(127,256)])"
   ]
  },
  {
   "cell_type": "markdown",
   "metadata": {},
   "source": [
    "## Helper functions"
   ]
  },
  {
   "cell_type": "code",
   "execution_count": 4,
   "metadata": {},
   "outputs": [],
   "source": [
    "def normalize(c, dim=None):\n",
    "    \"\"\"Converts a Counter or dict to a probability distribution\"\"\"\n",
    "    if isinstance(c, (dict, Counter)):\n",
    "        total = sum(c.values())\n",
    "        p = {k: v / total for k, v in c.items()}\n",
    "    else:\n",
    "        if not isinstance(c, torch.Tensor):\n",
    "            c = torch.tensor([v for v in c], dtype=torch.float, requires_grad=False)\n",
    "        p = c / c.sum(dim=dim, keepdim=True)\n",
    "    return p\n",
    "    \n",
    "def entropy(c, dim=None, keepdim=False):\n",
    "    \"\"\"Computes the entropy of a Counter or dict\"\"\"\n",
    "    if isinstance(c, (dict, Counter)):\n",
    "        c = list(c.values())\n",
    "    p = normalize(c, dim=dim)\n",
    "    h = -torch.sum(p * torch.log2(p).nan_to_num(), dim=dim, keepdim=keepdim)\n",
    "    if h.squeeze().shape == torch.Size([]):\n",
    "        h = h.item()\n",
    "    return h\n",
    "\n",
    "def find_best_merge(vocab, merges): #a_token, b_tokens, b_freqs, merge_tokens, merge_freqs):\n",
    "    if len(merges) == 1:\n",
    "        return merges[0]\n",
    "\n",
    "    # We're going to build a tensor of all the resulting frequencies from merges. \n",
    "    # The tensor will have shape (len(merges), len(freqs)+1)\n",
    "    # each row will correspond to one possible merge and each column will correspond to the frequency of one token\n",
    "    vocab_tokens, vocab_freqs = list(zip(*vocab.items()))\n",
    "    vocab_freqs = torch.tensor(vocab_freqs, requires_grad=False)\n",
    "    merge_freqs = torch.tensor([x['mf'] for x in merges], requires_grad=False).unsqueeze(1)\n",
    "    freqs_t = vocab_freqs.unsqueeze(0) * torch.ones(len(merge_freqs), 1)\n",
    "    assert freqs_t.shape == (len(merges), len(vocab_freqs)), f\"ERROR: {freqs_t.shape=} != {len(merges)=} x {len(vocab_freqs)=}\"\n",
    "\n",
    "    # we need to find the indices of left and right halves of the merge token so we can subtract the merge frequencies from them\n",
    "    lt_idxes = torch.tensor([vocab_tokens.index(x['lt']) for x in merges], requires_grad=False)\n",
    "    rt_idxes = torch.tensor([vocab_tokens.index(x['rt']) for x in merges], requires_grad=False)\n",
    "    freqs_t[:, lt_idxes] -= merge_freqs\n",
    "    freqs_t[:, rt_idxes] -= merge_freqs\n",
    "    \n",
    "    # now we concatenate the merge frequencies to the end of each row\n",
    "    freqs_t = torch.cat([freqs_t, merge_freqs], dim=1)\n",
    "    assert freqs_t.shape == (len(merges), len(vocab_freqs)+1), f\"ERROR: {freqs_t.shape=} != {len(merges)=} x {len(vocab_freqs)+1=}\"\n",
    "    \n",
    "    # now we calculate the resulting entropy of each row and pick the merge that maximizes entropy\n",
    "    h = entropy(freqs_t, dim=-1)\n",
    "    best_idx = int(torch.argmax(h))    \n",
    "    merge = merges[best_idx]\n",
    "\n",
    "    return merge\n",
    "\n",
    "def record_progress(x_time, y_freqs, vocab):\n",
    "    # This is an awful function\n",
    "    t = time.time()\n",
    "    y = sorted(list(vocab.values()))\n",
    "    x_time.append(t)\n",
    "    y_freqs.append(y)\n",
    "    t0 = x_time[0]\n",
    "    ymax0 = max(y_freqs[0])\n",
    "    xmin = 0\n",
    "    xmax = MAX_VOCAB_SIZE\n",
    "    ymin = .9\n",
    "    x = np.arange(len(y))\n",
    "    y = np.array(y)\n",
    "    ymean = y.mean()\n",
    "    ystd = y.std()\n",
    "    ideal_y = ymean * np.ones(len(y))\n",
    "    for log in [True]: #, False]:\n",
    "        #if log:\n",
    "        #    ymax = ymax0\n",
    "        #else:\n",
    "        #    ymax = y.max()\n",
    "\n",
    "        plt.plot(x, y, color='blue', label=f'token frequencies (h={entropy(y):.01f} bits)')\n",
    "        plt.plot(x, ideal_y, color='orange', label=f'mean = {ymean:,.1f} (h={np.log2(len(y)):.1f} bits)')\n",
    "        plt.plot(x, ideal_y + ystd, color='green', label=f'mean+stddev = {ymean+ystd:,.1f} (h={np.log2(len(y)):.1f} bits)')\n",
    "        if ymean - ystd > 0:\n",
    "            plt.plot(x, ideal_y - ystd, color='green', label=f'mean-stddev = {ymean-ystd:,.1f} (h={np.log2(len(y)):.1f} bits)')\n",
    "        plt.title(f\"{int(t-t0):,}s since start\\nentropy: {entropy(y):.01f} / {np.log2(len(y)):.01f} / {MAX_ENTROPY:.01f} bits , {len(y)} tokens\")\n",
    "        plt.ylabel('num occurences')\n",
    "        plt.xlabel('token id')\n",
    "        if log:\n",
    "            plt.yscale('log')\n",
    "        plt.xlim(xmin, xmax)\n",
    "        plt.ylim(ymin, ymax)\n",
    "        # set background to white \n",
    "        plt.rcParams['axes.facecolor']='white'\n",
    "        fname = f'images/progress_{len(y)}{\"_log\" if log else \"\"}.png'\n",
    "        plt.legend()\n",
    "        plt.savefig(fname, dpi=300)\n",
    "        #print(fname)\n",
    "        #plt.show()\n",
    "        plt.close()\n"
   ]
  },
  {
   "cell_type": "markdown",
   "metadata": {},
   "source": [
    "## Cache Frequencies for Potential Tokens "
   ]
  },
  {
   "cell_type": "code",
   "execution_count": 5,
   "metadata": {},
   "outputs": [
    {
     "name": "stdout",
     "output_type": "stream",
     "text": [
      "Loading dataset...\n",
      "Loaded dataset in 1.9 seconds\n"
     ]
    },
    {
     "data": {
      "application/vnd.jupyter.widget-view+json": {
       "model_id": "e2d42e9c440741cd8fcf4446e9e6321a",
       "version_major": 2,
       "version_minor": 0
      },
      "text/plain": [
       "Finding byte string frequencies:   0%|          | 0/100 [00:00<?, ?example/s]"
      ]
     },
     "metadata": {},
     "output_type": "display_data"
    },
    {
     "name": "stdout",
     "output_type": "stream",
     "text": [
      "Found frequencies for 24,415,290 potential tokens. example: (b'O', 878)\n"
     ]
    }
   ],
   "source": [
    "# def make_freqs_cache(ds_name=\"wikitext\", data_dir=\"wikitext-2-raw-v1\", split=\"train\")\n",
    "def make_freqs_cache(ds_name=\"graelo/wikipedia\", data_dir=\"20230901.en\", split=\"train\"):\n",
    "    print(f\"Loading dataset...\", flush=True)\n",
    "    t0 = time.time()\n",
    "    ds = load_dataset(ds_name, data_dir, split=split)\n",
    "    dl = ds.to_iterable_dataset().shuffle(seed=RANDOM_SEED, buffer_size=10_000)\n",
    "    print(f\"Loaded dataset in {time.time() - t0:.1f} seconds\", flush=True)\n",
    "\n",
    "    cache = dict()\n",
    "    with tqdm(total=MAX_DATASET_EXAMPLES, desc=\"Finding byte string frequencies\", unit='example') as pb:\n",
    "        for i, ex in enumerate(dl):\n",
    "            if i >= MAX_DATASET_EXAMPLES:\n",
    "                break\n",
    "            ex = bytes(ex['text'], 'utf-8')\n",
    "            for L in range(1, MAX_TOKEN_LEN+1):\n",
    "                recent_slices = []  \n",
    "                for i in range(len(ex) - L):\n",
    "                    t = ex[i:i+L]\n",
    "                    if t not in recent_slices:  # don't count a token twice if it overlaps itself. ex.count() is too slow\n",
    "                        cache[t] = cache.get(t, 0) + 1\n",
    "                    recent_slices.append(t)\n",
    "                    recent_slices = recent_slices[-L:]\n",
    "                del(recent_slices)\n",
    "\n",
    "            pb.update(1)\n",
    "            pb.refresh()\n",
    "\n",
    "    return cache\n",
    "\n",
    "FREQS_CACHE = make_freqs_cache()\n",
    "\n",
    "print(f\"Found frequencies for {len(FREQS_CACHE):,} potential tokens. example: {next(iter(FREQS_CACHE.items()))}\", flush=True)"
   ]
  },
  {
   "cell_type": "markdown",
   "metadata": {},
   "source": [
    "## Build Vocabulary"
   ]
  },
  {
   "cell_type": "markdown",
   "metadata": {},
   "source": [
    "### initialize vocab with all 1-byte tokens"
   ]
  },
  {
   "cell_type": "code",
   "execution_count": 12,
   "metadata": {},
   "outputs": [
    {
     "data": {
      "text/plain": [
       "[(b' ', 118038), (b'e', 66685), (b'a', 51336)]"
      ]
     },
     "execution_count": 12,
     "metadata": {},
     "output_type": "execute_result"
    }
   ],
   "source": [
    "vocab = Counter({bytes([i]): FREQS_CACHE.get(bytes([i]), 0) for i in range(256)})\n",
    "vocab.most_common(3)"
   ]
  },
  {
   "cell_type": "code",
   "execution_count": 13,
   "metadata": {},
   "outputs": [],
   "source": [
    "x_time = []\n",
    "y_freqs = []\n",
    "ymin, ymax = 0.5, max(vocab.values())"
   ]
  },
  {
   "cell_type": "markdown",
   "metadata": {},
   "source": [
    "### merge pairs of tokens to increase the vocabulary size and entropy"
   ]
  },
  {
   "cell_type": "code",
   "execution_count": 19,
   "metadata": {},
   "outputs": [
    {
     "data": {
      "application/vnd.jupyter.widget-view+json": {
       "model_id": "786fe98cc91e490695c4af206ef35273",
       "version_major": 2,
       "version_minor": 0
      },
      "text/plain": [
       "vocabulary size:   3%|2         | 256/10000 [00:00<?, ?token/s]"
      ]
     },
     "metadata": {},
     "output_type": "display_data"
    },
    {
     "data": {
      "application/vnd.jupyter.widget-view+json": {
       "model_id": "645aa02a64374b91952aa03cc9bd6654",
       "version_major": 2,
       "version_minor": 0
      },
      "text/plain": [
       "vocabulary entropy (4.7 / 8.0) :  35%|###5      | 4.7/13.3 [00:00<?, ?bit/s]"
      ]
     },
     "metadata": {},
     "output_type": "display_data"
    },
    {
     "data": {
      "application/vnd.jupyter.widget-view+json": {
       "model_id": "0995397a1d244ea4a5fba128c4c606f9",
       "version_major": 2,
       "version_minor": 0
      },
      "text/plain": [
       "% of merge queue used: (max_idx=100) :   0%|          | 0/100 [00:00<?, ?percent/s]"
      ]
     },
     "metadata": {},
     "output_type": "display_data"
    }
   ],
   "source": [
    "MAX_QUEUE_DEPTH = 100\n",
    "\n",
    "MIN_FREQ = 5\n",
    "\n",
    "def grow_vocab(vocab=vocab):\n",
    "    global MAX_QUEUE_DEPTH\n",
    "    record_progress(x_time=x_time, y_freqs=y_freqs, vocab=vocab)\n",
    "\n",
    "    #with tqdm(desc=f\"tokens: highest freqs = {vocab.most_common(3)}\", total=MAX_VOCAB_SIZE, initial=len(vocab), unit=\"token\", smoothing=.9, position=0, leave=True) as tokens_pb:\n",
    "    with tqdm(desc=\"vocabulary size\", total=MAX_VOCAB_SIZE, initial=len(vocab), unit=\"token\", smoothing=.9, position=0, leave=True) as tokens_pb:\n",
    "        with tqdm(desc=f\"vocabulary entropy ({entropy(vocab):.1f} / {np.log2(len(vocab)):.1f}) \", total=round(MAX_ENTROPY, 1), initial=round(entropy(vocab), 1), smoothing=0, unit=\"bit\", position=1, leave=True) as entropy_pb:\n",
    "            with tqdm(desc=f\"% of merge queue used: (max_idx={MAX_QUEUE_DEPTH:,}) \", total=100, initial=0, unit=\"percent\", smoothing=0, position=2, leave=True) as queue_depth_pb:\n",
    "                while len(vocab) < MAX_VOCAB_SIZE:\n",
    "                    #freqs = list(vocab.values())\n",
    "                    #freqs_mean = np.mean(freqs)\n",
    "                    #freqs_std = np.std(freqs)\n",
    "\n",
    "                    # try zig zagging across the grid of at and bt to find the best merge\n",
    "                    # like at[0]+bt[0], at[0]+bt[1], at[1]+bt[0], at[0]+bt[2], at[1]+bt[1], at[2]+bt[0], ...\n",
    "                    # go back to for at in : for bt in: -- zigzag has bad entropy\n",
    "                    merges = []\n",
    "                    while (not merges) and (MAX_QUEUE_DEPTH <= len(vocab)//2):\n",
    "                        max_token_id = min(len(vocab)//2, MAX_QUEUE_DEPTH)\n",
    "                        most_common = vocab.most_common()[:max_token_id]\n",
    "                        merges = [{'lt': lt, 'lf': lf, 'rt': rt, 'rf': rf, 'mt': lt+rt, 'mf': FREQS_CACHE[lt+rt]} \n",
    "                                for lt, lf in most_common \n",
    "                                for rt, rf in most_common\n",
    "                                if lt + rt in FREQS_CACHE\n",
    "                                and lt + rt not in vocab]\n",
    "                        init_queue_depth = len(merges)\n",
    "                        merges = [m for m in merges if MIN_FREQ < min([m['mf'], \n",
    "                                                                        m['lf']-m['mf'], \n",
    "                                                                        m['rf']-m['mf']\n",
    "                                                                        ])]\n",
    "                        merges = [m for m in merges if (0 < m['mf']) and (m['mf'] <= min([m['lf'], m['rf']]))]\n",
    "                        merges = [m for m in merges if (0 < m['mf']) and (m['mf'] < max([m['lf'], m['rf']]))]\n",
    "                        merges = [m for m in merges if (m['lt'] != m['rt']) or (MIN_FREQ < m['lf']-(2*m['mf']))]\n",
    "                                    #or (m['lt'] in ASCII_DIGITS) \\\n",
    "                                    #or (m['rt'] in ASCII_DIGITS + ASCII_PUNCTUATION) \\\n",
    "\n",
    "                        queue_depth_pb.n = max(queue_depth_pb.n, round(100 * (init_queue_depth - len(merges)) / init_queue_depth, 1))\n",
    "                        queue_depth_pb.desc = f\"% of merge queue used: (max_idx={MAX_QUEUE_DEPTH:,}) \"\n",
    "                        queue_depth_pb.refresh()\n",
    "\n",
    "                        if len(merges) < 50:\n",
    "                            MAX_QUEUE_DEPTH = MAX_QUEUE_DEPTH + 100\n",
    "                            queue_depth_pb.n = 0\n",
    "                        \n",
    "                    if not merges:\n",
    "                        tqdm.write(f\"no mergable tokens, {MAX_QUEUE_DEPTH=} {len(vocab)=} {len(merges)=} {init_queue_depth=}\")\n",
    "                        break\n",
    "\n",
    "                    def sort_key(x):\n",
    "                        return x['lf'] + x['rf'] - np.abs(x['mf'] - (np.mean([x['lf'], x['rf']]) / 2))\n",
    "                    merges = sorted(merges, key=sort_key, reverse=True)\n",
    "                    m = merges[0]\n",
    "                    lt, lf, rt, rf, mt, mf = m['lt'], m['lf'], m['rt'], m['rf'], m['mt'], m['mf']\n",
    "                    vocab[mt] = mf\n",
    "                    vocab[lt] -= mf\n",
    "                    vocab[rt] -= mf\n",
    "                    if (len(lt) > 1) and (vocab[lt] == 0):\n",
    "                        del vocab[lt]\n",
    "                    if (len(rt) > 1) and (vocab[rt] == 0):\n",
    "                        del vocab[rt]\n",
    "\n",
    "                    #assert vocab[lt] > 0, f\"ERROR: {vocab[lt]=} <= 0 : {mt=} {mf=} {lt=} {lf=} {rt=} {rf=}\"\n",
    "                    #assert vocab[rt] > 0, f\"ERROR: {vocab[rt]=} <= 0 : {mt=} {mf=} {lt=} {lf=} {rt=} {rf=}\"\n",
    "\n",
    "                    # show progress\n",
    "                    tokens_pb.n = len(vocab)\n",
    "                    #tokens_pb.desc = f\"tokens: highest freqs = {vocab.most_common(3)}\"\n",
    "                    tokens_pb.refresh()\n",
    "\n",
    "                    entropy_pb.n = round(float(entropy(vocab)) , 1)\n",
    "                    entropy_pb.desc = desc=f\"entropy: {entropy(vocab):.1f} / {np.log2(len(vocab)):.1f}\"\n",
    "                    entropy_pb.refresh()\n",
    "\n",
    "                    if len(vocab) % 500 == 0:\n",
    "                        record_progress(x_time=x_time, y_freqs=y_freqs, vocab=vocab)\n",
    "\n",
    "    record_progress(x_time=x_time, y_freqs=y_freqs, vocab=vocab)\n",
    "    #return vocab\n",
    "\n",
    "#v = cProfile.run('grow_vocab()')\n",
    "v = grow_vocab()\n"
   ]
  },
  {
   "cell_type": "markdown",
   "metadata": {},
   "source": [
    "### save vocab"
   ]
  },
  {
   "cell_type": "code",
   "execution_count": null,
   "metadata": {},
   "outputs": [],
   "source": [
    "with open(\"vocab.txt\", 'w') as f:\n",
    "    f.write(\"id, token, freq\\n\")\n",
    "    for i, (t, fr) in enumerate(vocab.most_common()):\n",
    "        f.write(f\"{i}, {repr(t)}, {fr}\\n\")"
   ]
  },
  {
   "cell_type": "markdown",
   "metadata": {},
   "source": [
    "## Visualization"
   ]
  },
  {
   "cell_type": "markdown",
   "metadata": {},
   "source": [
    "### distribution of token freqencies in initial vocabulary"
   ]
  },
  {
   "cell_type": "code",
   "execution_count": null,
   "metadata": {},
   "outputs": [],
   "source": [
    "init_vocab = Counter({bytes([i]): FREQS_CACHE.get(bytes([i]), 0) for i in range(256)})\n",
    "\n",
    "init_tokens_freqs = list(reversed(init_vocab.most_common()))\n",
    "init_tokens, init_freqs = zip(*init_tokens_freqs)\n",
    "init_freqs = np.array(init_freqs)\n",
    "init_tokens = np.array(init_tokens)\n",
    "\n",
    "x = torch.arange(len(init_freqs))\n",
    "\n",
    "# ascii byte ranges\n",
    "punct_idx = np.isin(init_tokens, ASCII_PUNCTUATION)\n",
    "digit_idx = np.isin(init_tokens, ASCII_DIGITS)\n",
    "lower_idx = np.isin(init_tokens, ASCII_LOWERCASE)\n",
    "upper_idx = np.isin(init_tokens, ASCII_UPPERCASE)\n",
    "cntrl_idx = np.isin(init_tokens, ASCII_CONTROL)\n",
    "other_idx = np.isin(init_tokens, ASCII_OTHER)\n",
    "\n",
    "# plot frequencies\n",
    "plt.scatter(x[other_idx], init_freqs[other_idx], marker='.', color='purple', label='non-ASCII')\n",
    "plt.scatter(x[lower_idx], init_freqs[lower_idx], marker='.', color='blue', label='ASCII lowercase')\n",
    "plt.scatter(x[upper_idx], init_freqs[upper_idx], marker='.', color='green', label='ASCII uppercase')\n",
    "plt.scatter(x[punct_idx], init_freqs[punct_idx], marker='.', color='orange', label='ASCII punctuation')\n",
    "plt.scatter(x[digit_idx], init_freqs[digit_idx], marker='.', color='red', label='ASCII digits')\n",
    "plt.scatter(x[cntrl_idx], init_freqs[cntrl_idx], marker='.', color='black', label='ASCII control')\n",
    "plt.yscale('log')\n",
    "plt.title(f'frequency of each 1-byte token\\nvocab entropy: {entropy(init_freqs):.1f} / {np.log2(256):.1f} / {MAX_ENTROPY:.1f} bits')\n",
    "plt.xlabel('byte')\n",
    "plt.ylabel('byte frequency (log scale)')\n",
    "#plt.xticks(list(range(0, 257, 32))) #, rotation=90, labels=xtick_labels)\n",
    "plt.xmin = 0\n",
    "plt.xmax = 256\n",
    "plt.grid()\n",
    "plt.legend()\n",
    "#plt.savefig('1-byte-token-frequencies.png', dpi=300)\n",
    "plt.show()\n",
    "plt.close()"
   ]
  },
  {
   "cell_type": "markdown",
   "metadata": {},
   "source": [
    "### frequency spread over time"
   ]
  },
  {
   "cell_type": "code",
   "execution_count": 9,
   "metadata": {},
   "outputs": [
    {
     "data": {
      "application/vnd.jupyter.widget-view+json": {
       "model_id": "2aa1b3c2ab2e461f8951ff5c72f94f5b",
       "version_major": 2,
       "version_minor": 0
      },
      "text/plain": [
       "generating data stream:   0%|          | 0/22 [00:00<?, ?frame/s]"
      ]
     },
     "metadata": {},
     "output_type": "display_data"
    },
    {
     "data": {
      "image/png": "[encoded data removed]",
      "text/plain": [
       "<Figure size 640x480 with 1 Axes>"
      ]
     },
     "metadata": {},
     "output_type": "display_data"
    }
   ],
   "source": [
    "# https://stackoverflow.com/questions/9401658/how-to-animate-a-scatter-plot\n",
    "import matplotlib.animation as animation\n",
    "\n",
    "\n",
    "class Animated(object):\n",
    "    def __init__(self, x_time, y_freqs, frame_rate):\n",
    "        self.x_time, self.y_freqs = x_time, y_freqs\n",
    "        self.stream = self.data_stream()\n",
    "        self.frame_rate = frame_rate\n",
    "        self.ymin = 1\n",
    "        self.ymax = max([int(f) for f in self.y_freqs[0]])\n",
    "        self.t0 = x_time[0]\n",
    "\n",
    "        # Setup the figure and axes...\n",
    "        self.fig, self.ax = plt.subplots()\n",
    "        # Then setup FuncAnimation.\n",
    "        self.ani = animation.FuncAnimation(self.fig, self.update, interval=5, \n",
    "                                          save_count=len(self.x_time), blit=True) # init_func=self.update, \n",
    "\n",
    "    def data_stream(self):\n",
    "        for t_raw, y_raw in tqdm(zip(self.x_time, self.y_freqs), total=len(self.x_time), desc=\"generating data stream\", unit=\"frame\", leave=True):\n",
    "            #t = time.strftime('%Y-%m-%d @ %I:%M:%S %Z', time.gmtime(t_raw)) # + str(t_raw % 60)\n",
    "            t = round(t_raw - self.t0)\n",
    "            y = np.array(sorted(y_raw))\n",
    "            x = np.arange(len(y))\n",
    "            yield (t, x, y)\n",
    "\n",
    "    def update(self, i=0):\n",
    "        try:\n",
    "            t, x, y = next(self.stream)\n",
    "        except StopIteration:\n",
    "            return []\n",
    "        for line in self.ax.lines:\n",
    "            line.remove()\n",
    "\n",
    "        ymean = y.mean()\n",
    "        ystd = y.std()\n",
    "        ideal_y = ymean * np.ones(len(y))\n",
    "\n",
    "        log = False\n",
    "        plots = [] \n",
    "        pl, = self.ax.plot(x, y, color='blue', label=f'token frequencies (h={entropy(y):.01f} bits)')\n",
    "        plots.append(pl)\n",
    "        pl, = self.ax.plot(x, ideal_y, color='orange', label=f'mean = {ymean:,.1f} (h={np.log2(len(y)):.1f} bits)')\n",
    "        plots.append(pl)\n",
    "        pl, = self.ax.plot(x, ideal_y + ystd, color='green', label=f'mean+stddev = {ymean+ystd:,.1f} (h={np.log2(len(y)):.1f} bits)')\n",
    "        plots.append(pl)\n",
    "        if ymean - ystd > 0:\n",
    "            pl, = self.ax.plot(x, ideal_y - ystd, color='green', label=f'mean-stddev = {ymean-ystd:,.1f} (h={np.log2(len(y)):.1f} bits)')\n",
    "            plots.append(pl)\n",
    "        self.ax.set_title(f\"{int(time.time()-x_time[0]):,}s since start\\nentropy: {entropy(y):.01f} / {np.log2(len(y)):.01f} / {MAX_ENTROPY:.01f} bits , {len(y)} tokens\")\n",
    "        self.ax.set_ylabel('num occurences')\n",
    "        self.ax.set_xlabel('token id')\n",
    "        if log:\n",
    "            self.ax.set_yscale('log')\n",
    "        self.ax.set_xlim(0, MAX_VOCAB_SIZE)\n",
    "        if log:\n",
    "            self.ax.set_ylim(.9, max(y_freqs[0]))\n",
    "        else:\n",
    "            self.ax.set_ylim(0, max(y))\n",
    "        self.ax.legend()\n",
    "        return plots\n",
    "\n",
    "\n",
    "framerate = 8\n",
    "a = Animated(x_time, y_freqs, framerate)\n",
    "plt.show()\n",
    "a.ani.save('test.mp4', fps=framerate, extra_args=['-vcodec', 'libx264'])\n",
    "#a.ani.save('test.gif', fps=30)\n"
   ]
  },
  {
   "cell_type": "code",
   "execution_count": null,
   "metadata": {},
   "outputs": [],
   "source": []
  }
 ],
 "metadata": {
  "kernelspec": {
   "display_name": "Python 3 (ipykernel)",
   "language": "python",
   "name": "python3"
  },
  "language_info": {
   "codemirror_mode": {
    "name": "ipython",
    "version": 3
   },
   "file_extension": ".py",
   "mimetype": "text/x-python",
   "name": "python",
   "nbconvert_exporter": "python",
   "pygments_lexer": "ipython3",
   "version": "3.11.5"
  }
 },
 "nbformat": 4,
 "nbformat_minor": 4
}

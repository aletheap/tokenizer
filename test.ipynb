{
 "cells": [
  {
   "cell_type": "markdown",
   "metadata": {},
   "source": [
    "# My Tokenizer"
   ]
  },
  {
   "cell_type": "code",
   "execution_count": 1,
   "metadata": {},
   "outputs": [],
   "source": [
    "import cProfile\n",
    "import time\n",
    "from collections import Counter\n",
    "\n",
    "import matplotlib.pyplot as plt\n",
    "import numpy as np\n",
    "from datasets import load_dataset\n",
    "\n",
    "# set up tqdm\n",
    "try:\n",
    "    if 'ZMQInteractiveShell' == get_ipython().__class__.__name__:\n",
    "        from tqdm.notebook import tqdm\n",
    "    else:\n",
    "        from tqdm import tqdm\n",
    "except NameError:\n",
    "    from tqdm import tqdm\n",
    "\n",
    "# config\n",
    "MAX_VOCAB_SIZE: int = 50_000  # maximum size of vocab\n",
    "MAX_TOKEN_LEN: int = 40  # maximum length of token\n",
    "RANDOM_SEED = 42\n",
    "\n",
    "# don't change these\n",
    "MAX_ENTROPY = round(float(np.log2(MAX_VOCAB_SIZE)), 2)\n",
    "ASCII_PUNCTUATION = [bytes([i]) for i in range(32,48)] + [bytes([i]) for i in range(58,65)] + [bytes([i]) for i in range(91,97)] + [bytes([i]) for i in range(123,127)]\n",
    "ASCII_DIGITS = [bytes([i]) for i in range(48,58)]\n",
    "ASCII_LOWERCASE = [bytes([i]) for i in range(97,123)]\n",
    "ASCII_UPPERCASE = [bytes([i]) for i in range(65,91)]\n",
    "ASCII_CONTROL = [bytes([i]) for i in range(0,32)]\n",
    "ASCII_OTHER = [bytes([i]) for i in range(127,256)]"
   ]
  },
  {
   "cell_type": "markdown",
   "metadata": {},
   "source": [
    "## Load dataset"
   ]
  },
  {
   "cell_type": "code",
   "execution_count": 2,
   "metadata": {},
   "outputs": [
    {
     "name": "stdout",
     "output_type": "stream",
     "text": [
      "Loading dataset...\n",
      "Loaded dataset in 4.9 seconds\n"
     ]
    }
   ],
   "source": [
    "ds_name, data_dir, split = (\"graelo/wikipedia\", \"20230901.en\", \"train\")\n",
    "#ds_name, data_dir, split = (\"wikitext\", \"wikitext-2-raw-v1\", \"train\")\n",
    "\n",
    "print(f\"Loading dataset...\", flush=True)\n",
    "t0 = time.time()\n",
    "ds = load_dataset(ds_name, data_dir, split=split)\n",
    "print(f\"Loaded dataset in {time.time() - t0:.1f} seconds\", flush=True)"
   ]
  },
  {
   "cell_type": "markdown",
   "metadata": {},
   "source": [
    "## Build Vocabulary"
   ]
  },
  {
   "cell_type": "code",
   "execution_count": 5,
   "metadata": {},
   "outputs": [],
   "source": [
    "class Vocabulary(dict):\n",
    "\n",
    "    def __init__(self, \n",
    "                 *args, \n",
    "                 unmergable_tokens=ASCII_PUNCTUATION, #+ASCII_DIGITS, \n",
    "                 truncate_freq_lower_bound=2, \n",
    "                 max_size=MAX_VOCAB_SIZE,\n",
    "                 max_token_len=MAX_TOKEN_LEN,\n",
    "                 **kwargs):\n",
    "        super().__init__(*args, **kwargs)\n",
    "        self.unmergable_tokens = unmergable_tokens\n",
    "        self.truncate_freq_lower_bound = truncate_freq_lower_bound\n",
    "        self.max_size = max_size\n",
    "        self.max_token_len = max_token_len\n",
    "\n",
    "        # initialize with all bytes\n",
    "        self.update({bytes([i]): 0 for i in range(256)})\n",
    "\n",
    "    def mean(self):\n",
    "        return np.mean(list(self.values()))\n",
    "\n",
    "    def std(self):\n",
    "        return np.std(list(self.values()))\n",
    "\n",
    "    def sum(self):\n",
    "        return sum(self.values())\n",
    "    \n",
    "    def entropy(self, precision=1):\n",
    "        #return round(entropy(self.values()), precision)\n",
    "        s = self.sum()\n",
    "        if s <= 0:\n",
    "            return 0\n",
    "        p = np.array([v/s for v in self.values() if v > 0])\n",
    "        h = (-p * np.log2(p)).sum()\n",
    "        return round(h, precision)\n",
    "\n",
    "    def most_common(self, n=None, reverse=False):\n",
    "        if n is None:\n",
    "            n = len(self) + 1\n",
    "        return sorted(self.items(), key=lambda x: x[1], reverse=not reverse)[:n]\n",
    "\n",
    "    def sorted_values(self, reverse=False):\n",
    "        return sorted(list(self.values()), reverse=reverse)\n",
    "\n",
    "    def truncate(self, freq_lower_bound=None, max_size=None):\n",
    "        assert len(self) > 256, f\"Vocabulary has {len(self)} tokens and cannot be truncated\"\n",
    "\n",
    "        if freq_lower_bound is None:\n",
    "            freq_lower_bound = self.truncate_freq_lower_bound\n",
    "\n",
    "        if max_size is None:\n",
    "            max_size = self.max_size\n",
    "        \n",
    "        n_kept_tokens = len([t for t in self.keys() if len(t) == 1])\n",
    "        for t, f in self.most_common():\n",
    "            if len(t) == 1:\n",
    "                continue\n",
    "            elif (f < freq_lower_bound) or (n_kept_tokens >= max_size):\n",
    "                del self[t]\n",
    "            else:\n",
    "                n_kept_tokens += 1\n",
    "\n",
    "        assert len(self) > 256, f\"Vocabulary truncated down to individual bytes only, trying lowering `freq_lower_bound` or increasing `max_size`\"\n",
    "        assert len(self) <= max_size, f\"Vocabulary failed to truncate down to `max_size`={max_size}\"\n",
    "    \n",
    "    def find_next_token(self, text, threshold=None):\n",
    "        if threshold is None:\n",
    "            threshold = self.mean()\n",
    "\n",
    "        prev_token = None\n",
    "        prev_freq = None\n",
    "        for L in range(1, self.max_token_len + 1):\n",
    "            token = text[:L]\n",
    "            #if token in self.unmergable_tokens:\n",
    "            #    return token\n",
    "            if (len(token) > 1) and token[-1:] in self.unmergable_tokens:\n",
    "                return prev_token\n",
    "            if (token in self):\n",
    "                prev_token = token\n",
    "                prev_freq = self[token]\n",
    "            else:\n",
    "                break\n",
    "\n",
    "        if (prev_token is None) or (prev_freq > threshold):\n",
    "            return token\n",
    "        else:\n",
    "            return prev_token\n",
    "\n",
    "    def __repr__(self):\n",
    "        mc = self.most_common()\n",
    "        return f\"Vocabulary({{{mc[0][0]}: {mc[0][1]}, ..., {mc[-1][0]}: {mc[-1][1]}}})\"\n",
    "        return f\"Vocabulary({super().__repr__()})\"\n",
    "\n",
    "    @classmethod\n",
    "    def create(cls, \n",
    "               dataset, \n",
    "               unmergable_tokens=ASCII_PUNCTUATION, #+ASCII_DIGITS, \n",
    "               truncate_freq_lower_bound=2, \n",
    "               max_size=MAX_VOCAB_SIZE,\n",
    "               max_token_len=MAX_TOKEN_LEN,\n",
    "               ):\n",
    "\n",
    "        vocab = cls(unmergable_tokens=unmergable_tokens, \n",
    "                    truncate_freq_lower_bound=truncate_freq_lower_bound, \n",
    "                    max_size=max_size,\n",
    "                    max_token_len=max_token_len)\n",
    "\n",
    "        with tqdm(desc=\"passes\", unit='pass', position=0, leave=True) as pruning_pb:\n",
    "            with tqdm(desc=\"n_tokens\", total=vocab.max_size, initial=len(vocab), unit=\"token\", position=1, leave=True) as tokens_pb:\n",
    "                with tqdm(desc=f\"entropy\", total=MAX_ENTROPY, initial=vocab.entropy(), unit=\"bit\", position=2, leave=True) as entropy_pb:\n",
    "                    dl = dataset.to_iterable_dataset().shuffle(seed=RANDOM_SEED, buffer_size=10_000)\n",
    "                    \n",
    "                    time_stamps = [time.time()]\n",
    "                    token_freq_log = [vocab.sorted_values()]\n",
    "\n",
    "                    for ex in dl:\n",
    "                        if len(vocab) >= vocab.max_size:\n",
    "                            vocab.truncate()\n",
    "                            pruning_pb.update(1)\n",
    "                            tokens_pb.desc=\"n_tokens\"\n",
    "                            tokens_pb.refresh()\n",
    "                            if len(vocab) >= vocab.max_size:\n",
    "                                break\n",
    "\n",
    "                        text = bytes(ex['text'], 'utf-8')\n",
    "\n",
    "                        while text:\n",
    "                            t = vocab.find_next_token(text[:vocab.max_token_len])\n",
    "                            text = text[len(t):]\n",
    "                            if t in vocab:\n",
    "                                vocab[t] += 1\n",
    "                            else:\n",
    "                                vocab[t] = 1\n",
    "                                if len(vocab) % 500 == 0:\n",
    "                                    time_stamps.append(time.time())\n",
    "                                    token_freq_log.append(vocab.sorted_values())\n",
    "\n",
    "                            if len(vocab) > vocab.max_size:\n",
    "                                tokens_pb.desc=\"n_tokens (pruning...)\"\n",
    "                                tokens_pb.refresh()\n",
    "                            else:\n",
    "                                tokens_pb.n = len(vocab)\n",
    "                                tokens_pb.refresh()\n",
    "                                entropy_pb.n = vocab.entropy()\n",
    "                                entropy_pb.refresh()\n",
    "\n",
    "\n",
    "        time_stamps.append(time.time())\n",
    "        token_freq_log.append(vocab.sorted_values())\n",
    "\n",
    "        return vocab, time_stamps, token_freq_log\n"
   ]
  },
  {
   "cell_type": "code",
   "execution_count": 7,
   "metadata": {},
   "outputs": [
    {
     "data": {
      "application/vnd.jupyter.widget-view+json": {
       "model_id": "5cecfae1ac1b49fbaf9bcffb7fb464fd",
       "version_major": 2,
       "version_minor": 0
      },
      "text/plain": [
       "passes: 0pass [00:00, ?pass/s]"
      ]
     },
     "metadata": {},
     "output_type": "display_data"
    },
    {
     "data": {
      "application/vnd.jupyter.widget-view+json": {
       "model_id": "87e2d8d9c1e441fc86f88333fd8b2a42",
       "version_major": 2,
       "version_minor": 0
      },
      "text/plain": [
       "n_tokens:   1%|          | 256/50000 [00:00<?, ?token/s]"
      ]
     },
     "metadata": {},
     "output_type": "display_data"
    },
    {
     "data": {
      "application/vnd.jupyter.widget-view+json": {
       "model_id": "508e3ac54601447ba3e9a32fdc5164a0",
       "version_major": 2,
       "version_minor": 0
      },
      "text/plain": [
       "entropy:   0%|          | 0/15.61 [00:00<?, ?bit/s]"
      ]
     },
     "metadata": {},
     "output_type": "display_data"
    }
   ],
   "source": [
    "#cProfile.run('vocab, time_stamps, token_freq_log = Vocabulary.create()')\n",
    "vocab, time_stamps, token_freq_log = Vocabulary.create(ds, unmergable_tokens=[]) \n"
   ]
  },
  {
   "cell_type": "code",
   "execution_count": null,
   "metadata": {},
   "outputs": [],
   "source": [
    "vocab.most_common()"
   ]
  },
  {
   "cell_type": "markdown",
   "metadata": {},
   "source": [
    "### save vocab"
   ]
  },
  {
   "cell_type": "code",
   "execution_count": null,
   "metadata": {},
   "outputs": [],
   "source": [
    "import csv\n",
    "with open(\"vocab.csv\", 'w') as f:\n",
    "    writer = csv.DictWriter(f, fieldnames=['id', 'token', 'frequency'])\n",
    "    writer.writeheader()\n",
    "    for i, (t, fr) in enumerate(vocab.most_common()):\n",
    "        writer.writerow({'id':i, 'token': t, 'frequency':fr})\n",
    "\n",
    "with open(\"vocab.csv\", 'r') as f:\n",
    "    reader = csv.DictReader(f)\n",
    "    test_loaded_vocab = Counter({eval(r['token']): int(r['frequency']) for r in reader})\n",
    "\n",
    "assert vocab.items() == test_loaded_vocab.items(), f\"ERROR:\\n{vocab.items()=}\\n{test_loaded_vocab.items()=}\""
   ]
  },
  {
   "cell_type": "markdown",
   "metadata": {},
   "source": [
    "## Visualization"
   ]
  },
  {
   "cell_type": "code",
   "execution_count": 9,
   "metadata": {},
   "outputs": [],
   "source": [
    "def entropy(x):\n",
    "    s = sum(x)\n",
    "    if s > 0:\n",
    "        p = np.array(x) / s\n",
    "        h = -p * np.log2(p)\n",
    "        h = np.nan_to_num(h).sum()\n",
    "    else:\n",
    "        h = 0\n",
    "    return h\n"
   ]
  },
  {
   "cell_type": "code",
   "execution_count": 18,
   "metadata": {},
   "outputs": [
    {
     "data": {
      "application/vnd.jupyter.widget-view+json": {
       "model_id": "0a597708beab4853ba5e45766d9e7bf5",
       "version_major": 2,
       "version_minor": 0
      },
      "text/plain": [
       "reading data:   0%|          | 0/677 [00:00<?, ?frame/s]"
      ]
     },
     "metadata": {},
     "output_type": "display_data"
    },
    {
     "name": "stderr",
     "output_type": "stream",
     "text": [
      "/var/folders/xs/tqnvbbfn7dg26mmpnqp49fh80000gr/T/ipykernel_33918/3644461046.py:79: UserWarning: Data has no positive values, and therefore cannot be log-scaled.\n",
      "  self.ax.set_yscale('log')\n",
      "/var/folders/xs/tqnvbbfn7dg26mmpnqp49fh80000gr/T/ipykernel_33918/3644461046.py:91: UserWarning: Attempt to set non-positive xlim on a log-scaled axis will be ignored.\n",
      "  self.ax.set_xlim(self.xmin_min,self.xmax_max)\n",
      "/var/folders/xs/tqnvbbfn7dg26mmpnqp49fh80000gr/T/ipykernel_33918/3644461046.py:98: UserWarning: Attempt to set non-positive ylim on a log-scaled axis will be ignored.\n",
      "  self.ax.set_ylim(ymin, max(y))\n",
      "/var/folders/xs/tqnvbbfn7dg26mmpnqp49fh80000gr/T/ipykernel_33918/3644461046.py:91: UserWarning: Attempt to set non-positive xlim on a log-scaled axis will be ignored.\n",
      "  self.ax.set_xlim(self.xmin_min,self.xmax_max)\n",
      "/var/folders/xs/tqnvbbfn7dg26mmpnqp49fh80000gr/T/ipykernel_33918/3644461046.py:98: UserWarning: Attempt to set non-positive ylim on a log-scaled axis will be ignored.\n",
      "  self.ax.set_ylim(ymin, max(y))\n"
     ]
    },
    {
     "data": {
      "application/vnd.jupyter.widget-view+json": {
       "model_id": "c2ebdff23bf44500bb05bab74f10a337",
       "version_major": 2,
       "version_minor": 0
      },
      "text/plain": [
       "reading data:   0%|          | 0/677 [00:00<?, ?frame/s]"
      ]
     },
     "metadata": {},
     "output_type": "display_data"
    },
    {
     "data": {
      "image/png": "[encoded data removed]",
      "text/plain": [
       "<Figure size 640x480 with 1 Axes>"
      ]
     },
     "metadata": {},
     "output_type": "display_data"
    }
   ],
   "source": [
    "# https://stackoverflow.com/questions/9401658/how-to-animate-a-scatter-plot\n",
    "import matplotlib.animation as animation\n",
    "\n",
    "\n",
    "class Animated(object):\n",
    "    def __init__(self, time_stamps, token_freq_log, frame_rate, log_xscale=False, log_yscale=True, fixed_ylim=True, fixed_xlim=True, normalized=True):\n",
    "        if token_freq_log and (max(token_freq_log[0]) == 0):\n",
    "            self.time_stamps, self.token_freq_log = time_stamps[1:], token_freq_log[1:]\n",
    "        else:\n",
    "            self.time_stamps, self.token_freq_log = time_stamps, token_freq_log\n",
    "        self.frame_rate = frame_rate\n",
    "        self.log_xscale = log_xscale\n",
    "        self.log_yscale = log_yscale\n",
    "        self.fixed_xlim = fixed_xlim\n",
    "        self.fixed_ylim = fixed_ylim\n",
    "        self.normalized = normalized\n",
    "        self.t0 = time_stamps[0]\n",
    "        self.stream = self.data_stream()\n",
    "\n",
    "        if self.log_yscale or self.log_xscale:\n",
    "            _, xs, ys = zip(*list(self.data_stream()))\n",
    "            xs = sum([x.tolist() for x in xs], [])\n",
    "            ys = sum([y.tolist() for y in ys], [])\n",
    "            self.xmax_max = max(xs)\n",
    "            self.xmin_min = min(xs)\n",
    "            self.ymax_max = max(ys)\n",
    "            self.ymin_min = min(ys)\n",
    "\n",
    "        # Setup the figure and axes...\n",
    "        self.fig, self.ax = plt.subplots()\n",
    "        # Then setup FuncAnimation.\n",
    "        self.ani = animation.FuncAnimation(self.fig, self.update, interval=200, \n",
    "                                          init_func=self.setup_plot, save_count=len(self.time_stamps), blit=True) # init_func=self.update, \n",
    "\n",
    "    def data_stream(self):\n",
    "        d = zip(self.time_stamps, self.token_freq_log)\n",
    "        for raw_t, raw_freqs in tqdm(d, total=len(self.time_stamps), desc=\"reading data\", unit=\"frame\"):\n",
    "            t = round(raw_t - self.t0)\n",
    "            freqs = np.array(sorted(raw_freqs, reverse=True))\n",
    "            freqs = freqs[freqs > 0]\n",
    "            if self.normalized:\n",
    "                freqs = freqs / freqs.sum()\n",
    "            x = np.arange(len(freqs))\n",
    "            yield t, x, freqs\n",
    "\n",
    "    def setup_plot(self):\n",
    "        return self._render()\n",
    "\n",
    "    def update(self, i=0):\n",
    "        try:\n",
    "            t, x, y = next(self.stream)\n",
    "        except StopIteration:\n",
    "            return []\n",
    "        return self._render(t=t, x=x, y=y)\n",
    "\n",
    "    def _render(self, t=None, y=None, x=None):\n",
    "        for line in self.ax.lines:\n",
    "            line.remove()\n",
    "\n",
    "        if t is None:\n",
    "            t = 0\n",
    "        if y is None:\n",
    "            y = sorted(token_freq_log[0], reverse=True)\n",
    "        if x is None:\n",
    "            x = np.arange(len(y))\n",
    "\n",
    "        m = np.mean(y)\n",
    "\n",
    "        plots = self.ax.plot(x, y, color=\"blue\", label=f'token frequencies')\n",
    "        plots += self.ax.plot(x, [m] * len(x), color=\"orange\", label=f'mean = {m:,.1f}')\n",
    "\n",
    "        self.ax.set_title(f\"{int(t):,}s since start\" + \\\n",
    "                          f\"\\nentropy: {entropy(y):.01f} / {np.log2(len(y)):.01f} / {MAX_ENTROPY:.01f} bits\" + \\\n",
    "                          f\", {len(y)} tokens\")\n",
    "        #self.ax.set_xlabel('token id')\n",
    "        self.ax.set_ylabel('num occurences')\n",
    "        \n",
    "        if self.log_yscale:\n",
    "            self.ax.set_yscale('log')\n",
    "            ymin = min([v for v in y if v > 0] + [1e-12])\n",
    "        else:\n",
    "            ymin = min(y)\n",
    "\n",
    "        if self.log_xscale:\n",
    "            self.ax.set_xscale('log')\n",
    "            xmin = min([v for v in x if v > 0] + [1e-12])\n",
    "        else:\n",
    "            xmin = min(x)\n",
    "\n",
    "        if self.fixed_xlim:\n",
    "            self.ax.set_xlim(self.xmin_min,self.xmax_max)\n",
    "        else:\n",
    "            self.ax.set_xlim(xmin, max(x))\n",
    "\n",
    "        if self.fixed_ylim:\n",
    "            self.ax.set_ylim(self.ymin_min, self.ymax_max)\n",
    "        else:\n",
    "            self.ax.set_ylim(ymin, max(y))\n",
    "        \n",
    "        self.ax.legend()\n",
    "        \n",
    "        return plots\n",
    "\n",
    "\n",
    "\n",
    "framerate = 8\n",
    "a = Animated(time_stamps, token_freq_log, framerate, log_xscale=True, fixed_ylim=False, normalized=False)\n",
    "#plt.show()\n",
    "a.ani.save('test.mp4', fps=framerate, extra_args=['-vcodec', 'libx264'])\n",
    "#a.ani.save('test.gif', fps=30)\n"
   ]
  },
  {
   "cell_type": "code",
   "execution_count": 15,
   "metadata": {},
   "outputs": [
    {
     "data": {
      "text/plain": [
       "9"
      ]
     },
     "execution_count": 15,
     "metadata": {},
     "output_type": "execute_result"
    }
   ],
   "source": [
    "max(token_freq_log[-1])"
   ]
  },
  {
   "cell_type": "code",
   "execution_count": null,
   "metadata": {},
   "outputs": [],
   "source": []
  }
 ],
 "metadata": {
  "kernelspec": {
   "display_name": "Python 3 (ipykernel)",
   "language": "python",
   "name": "python3"
  },
  "language_info": {
   "codemirror_mode": {
    "name": "ipython",
    "version": 3
   },
   "file_extension": ".py",
   "mimetype": "text/x-python",
   "name": "python",
   "nbconvert_exporter": "python",
   "pygments_lexer": "ipython3",
   "version": "3.11.5"
  }
 },
 "nbformat": 4,
 "nbformat_minor": 4
}

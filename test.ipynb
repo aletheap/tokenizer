{
 "cells": [
  {
   "cell_type": "markdown",
   "metadata": {},
   "source": [
    "# My Tokenizer"
   ]
  },
  {
   "cell_type": "code",
   "execution_count": 80,
   "metadata": {},
   "outputs": [],
   "source": [
    "import cProfile\n",
    "import time\n",
    "from collections import Counter\n",
    "import csv\n",
    "\n",
    "\n",
    "import matplotlib.pyplot as plt\n",
    "import numpy as np\n",
    "from datasets import load_dataset\n",
    "\n",
    "# set up tqdm\n",
    "try:\n",
    "    if 'ZMQInteractiveShell' == get_ipython().__class__.__name__:\n",
    "        from tqdm.notebook import tqdm\n",
    "    else:\n",
    "        from tqdm import tqdm\n",
    "except NameError:\n",
    "    from tqdm import tqdm\n",
    "\n",
    "# config\n",
    "MAX_VOCAB_SIZE: int = 50_000  # maximum size of vocab\n",
    "MAX_TOKEN_LEN: int = 40  # maximum length of token\n",
    "RANDOM_SEED = 42\n",
    "\n",
    "# don't change these\n",
    "MAX_ENTROPY = round(float(np.log2(MAX_VOCAB_SIZE)), 1)\n"
   ]
  },
  {
   "cell_type": "markdown",
   "metadata": {},
   "source": [
    "## Load dataset"
   ]
  },
  {
   "cell_type": "code",
   "execution_count": 2,
   "metadata": {},
   "outputs": [
    {
     "name": "stdout",
     "output_type": "stream",
     "text": [
      "Loading dataset...\n",
      "Loaded dataset in 4.3 seconds\n"
     ]
    }
   ],
   "source": [
    "ds_name, data_dir, split = (\"graelo/wikipedia\", \"20230901.en\", \"train\")\n",
    "#ds_name, data_dir, split = (\"wikitext\", \"wikitext-2-raw-v1\", \"train\")\n",
    "\n",
    "print(f\"Loading dataset...\", flush=True)\n",
    "t0 = time.time()\n",
    "ds = load_dataset(ds_name, data_dir, split=split)\n",
    "print(f\"Loaded dataset in {time.time() - t0:.1f} seconds\", flush=True)"
   ]
  },
  {
   "cell_type": "markdown",
   "metadata": {},
   "source": [
    "## Build Vocabulary"
   ]
  },
  {
   "cell_type": "code",
   "execution_count": 3,
   "metadata": {},
   "outputs": [],
   "source": [
    "# standard byte ranges\n",
    "ASCII_PUNCTUATION = [bytes([i]) for i in range(32,48)] + [bytes([i]) for i in range(58,65)] + [bytes([i]) for i in range(91,97)] + [bytes([i]) for i in range(123,127)]\n",
    "ASCII_DIGITS = [bytes([i]) for i in range(48,58)]\n",
    "ASCII_LOWERCASE = [bytes([i]) for i in range(97,123)]\n",
    "ASCII_UPPERCASE = [bytes([i]) for i in range(65,91)]\n",
    "ASCII_CONTROL = [bytes([i]) for i in range(0,32)]\n",
    "NON_ASCII = [bytes([i]) for i in range(127,256)]"
   ]
  },
  {
   "cell_type": "code",
   "execution_count": 29,
   "metadata": {},
   "outputs": [],
   "source": [
    "class Vocabulary(dict):\n",
    "\n",
    "    def __init__(self, \n",
    "                 *args, \n",
    "                 no_merge_on_right=ASCII_PUNCTUATION + ASCII_CONTROL + ASCII_DIGITS,\n",
    "                 no_merge_on_left=ASCII_CONTROL + ASCII_DIGITS,\n",
    "                 truncate_freq_lower_bound=2, \n",
    "                 max_size=MAX_VOCAB_SIZE,\n",
    "                 max_token_len=MAX_TOKEN_LEN,\n",
    "                 **kwargs):\n",
    "        super().__init__(*args, **kwargs)\n",
    "        self.no_merge_on_right = no_merge_on_right\n",
    "        self.no_merge_on_left = no_merge_on_left\n",
    "        self.truncate_freq_lower_bound = truncate_freq_lower_bound\n",
    "        self.max_size = max_size\n",
    "        self.max_token_len = max_token_len\n",
    "\n",
    "        # initialize with all bytes\n",
    "        self.update({bytes([i]): 0 for i in range(256)})\n",
    "\n",
    "    def mean(self):\n",
    "        return np.mean(list(self.values()))\n",
    "\n",
    "    def std(self):\n",
    "        return np.std(list(self.values()))\n",
    "\n",
    "    def sum(self):\n",
    "        return sum(self.values())\n",
    "    \n",
    "    def entropy(self, precision=1):\n",
    "        #return round(entropy(self.values()), precision)\n",
    "        s = self.sum()\n",
    "        if s <= 0:\n",
    "            return 0\n",
    "        p = np.array([v/s for v in self.values() if v > 0])\n",
    "        with np.errstate(invalid='ignore'):\n",
    "            h = np.nan_to_num((-p * np.log2(p))).sum()\n",
    "        return round(h, precision)\n",
    "\n",
    "    def most_common(self, n=None, reverse=False):\n",
    "        if n is None:\n",
    "            n = len(self) + 1\n",
    "        return sorted(self.items(), key=lambda x: x[1], reverse=not reverse)[:n]\n",
    "\n",
    "    def sorted_values(self, reverse=False):\n",
    "        return sorted(list(self.values()), reverse=reverse)\n",
    "\n",
    "    def prune_rare_tokens(self, freq_lower_bound=None, max_size=None):\n",
    "        assert len(self) > 256, f\"Vocabulary has {len(self)} tokens and cannot be truncated\"\n",
    "\n",
    "        if freq_lower_bound is None:\n",
    "            freq_lower_bound = self.truncate_freq_lower_bound\n",
    "\n",
    "        if max_size is None:\n",
    "            max_size = self.max_size\n",
    "        \n",
    "        n_kept_tokens = len([t for t in self.keys() if len(t) == 1])\n",
    "        for t, f in self.most_common():\n",
    "            if len(t) == 1:\n",
    "                continue\n",
    "            elif (f < freq_lower_bound) or (n_kept_tokens >= max_size):\n",
    "                del self[t]\n",
    "            else:\n",
    "                n_kept_tokens += 1\n",
    "\n",
    "        #assert len(self) > 256, f\"Vocabulary truncated down to individual bytes only, trying lowering `freq_lower_bound` or increasing `max_size`\"\n",
    "        assert len(self) <= max_size, f\"Vocabulary failed to truncate down to `max_size`={max_size}\"\n",
    "    \n",
    "    def find_next_token(self, text, threshold=None):\n",
    "        if threshold is None:\n",
    "            threshold = self.mean()\n",
    "\n",
    "        prev_token = None\n",
    "        prev_freq = None\n",
    "        for L in range(1, self.max_token_len + 1):\n",
    "            token = text[:L]\n",
    "            if token in self.no_merge_on_left:\n",
    "                return token\n",
    "            if (len(token) > 1) and token[-1:] in self.no_merge_on_right:\n",
    "                return prev_token\n",
    "            if token[-1:] in self.no_merge_on_left:\n",
    "                break\n",
    "            if (token in self):\n",
    "                prev_token = token\n",
    "                prev_freq = self[token]\n",
    "            else:\n",
    "                break\n",
    "\n",
    "        if (prev_token is None) or (prev_freq > threshold):\n",
    "            return token\n",
    "        else:\n",
    "            return prev_token\n",
    "\n",
    "    def __repr__(self):\n",
    "        mc = self.most_common()\n",
    "        return f\"Vocabulary({{{mc[0][0]}: {mc[0][1]}, ..., {mc[-1][0]}: {mc[-1][1]}}})\"\n",
    "        return f\"Vocabulary({super().__repr__()})\"\n",
    "\n",
    "    @classmethod\n",
    "    def create(cls, \n",
    "               dataset, \n",
    "               no_merge_on_right=ASCII_PUNCTUATION + ASCII_CONTROL + ASCII_DIGITS,\n",
    "               no_merge_on_left=ASCII_CONTROL + ASCII_DIGITS,\n",
    "               truncate_freq_lower_bound=2, \n",
    "               max_size=MAX_VOCAB_SIZE,\n",
    "               max_token_len=MAX_TOKEN_LEN,\n",
    "               ):\n",
    "\n",
    "        # load the dataset to find tokens in \n",
    "        dl = dataset.to_iterable_dataset().shuffle(seed=RANDOM_SEED, buffer_size=10_000)\n",
    "\n",
    "        # initialize the new vocabulary\n",
    "        vocab = cls(no_merge_on_right=no_merge_on_right,\n",
    "                    no_merge_on_left=no_merge_on_left,\n",
    "                    truncate_freq_lower_bound=truncate_freq_lower_bound, \n",
    "                    max_size=max_size,\n",
    "                    max_token_len=max_token_len)\n",
    "\n",
    "        # initialize progress log\n",
    "        time_stamps = [time.time()]\n",
    "        token_freq_log = [vocab.sorted_values()]\n",
    "\n",
    "        # find tokens in the dataset\n",
    "        with tqdm(desc=\"dataset examples\", total=len(dataset), unit=\"example\", leave=True) as examples_pb:\n",
    "            with tqdm(desc=\"tokens found\", total=vocab.max_size, initial=len(vocab), unit=\"token\", leave=True) as tokens_pb:\n",
    "                with tqdm(desc=f\"curr entropy [ sum(-p*log2(p))  ]\", total=MAX_ENTROPY, initial=vocab.entropy(), unit=\"bit\", leave=True) as entropy_pb:\n",
    "                    with tqdm(desc=f\"best entropy [ log2(len(vocab)) ]\", total=MAX_ENTROPY, initial=np.log2(len(vocab)), unit=\"bit\", leave=True) as best_entropy_pb:\n",
    "                        for i, example in enumerate(dl):\n",
    "                            examples_pb.update(1)\n",
    "                            text = bytes(example['text'], 'utf-8')\n",
    "\n",
    "                            # find tokens in this example\n",
    "                            while text:\n",
    "                                t = vocab.find_next_token(text[:vocab.max_token_len])\n",
    "                                text = text[len(t):]\n",
    "                                vocab[t] = vocab.get(t, 0) + 1\n",
    "\n",
    "                            # every 5 examples, prune rare tokens and update progress bars\n",
    "                            if i % 5 == 0:\n",
    "                                # prune any token only seen once    \n",
    "                                vocab.prune_rare_tokens(freq_lower_bound=2)\n",
    "\n",
    "                                # update progress bars\n",
    "                                tokens_pb.n = len(vocab)\n",
    "                                tokens_pb.refresh()\n",
    "                                entropy_pb.n = vocab.entropy()\n",
    "                                entropy_pb.refresh()\n",
    "                                best_entropy_pb.n = round(np.log2(len(vocab)), 1)\n",
    "                                best_entropy_pb.refresh()\n",
    "\n",
    "                                #log progress\n",
    "                                time_stamps.append(time.time())\n",
    "                                token_freq_log.append(vocab.sorted_values())\n",
    "                            \n",
    "                                # are we there yet?\n",
    "                                if len(vocab) == vocab.max_size:\n",
    "                                    break\n",
    "                                if min(vocab.values()) > 10:\n",
    "                                    # FIXME: some single-byte tokens never occur\n",
    "                                    # we've seen the rarest token multiple times \n",
    "                                    # since we last found a new token. Time to give up.\n",
    "                                    break\n",
    "\n",
    "        return vocab, time_stamps, token_freq_log\n"
   ]
  },
  {
   "cell_type": "code",
   "execution_count": 12,
   "metadata": {},
   "outputs": [
    {
     "data": {
      "application/vnd.jupyter.widget-view+json": {
       "model_id": "098066e8b50c4ae99a42c52499c8c33a",
       "version_major": 2,
       "version_minor": 0
      },
      "text/plain": [
       "dataset examples:   0%|          | 0/6705754 [00:00<?, ?example/s]"
      ]
     },
     "metadata": {},
     "output_type": "display_data"
    },
    {
     "data": {
      "application/vnd.jupyter.widget-view+json": {
       "model_id": "2ec84c1a37d54379a613da4f6efc1248",
       "version_major": 2,
       "version_minor": 0
      },
      "text/plain": [
       "tokens found:   1%|          | 256/50000 [00:00<?, ?token/s]"
      ]
     },
     "metadata": {},
     "output_type": "display_data"
    },
    {
     "data": {
      "application/vnd.jupyter.widget-view+json": {
       "model_id": "bfef9b82064542278d15387db33484da",
       "version_major": 2,
       "version_minor": 0
      },
      "text/plain": [
       "curr entropy [ sum(-p*log2(p))  ]:   0%|          | 0/15.6 [00:00<?, ?bit/s]"
      ]
     },
     "metadata": {},
     "output_type": "display_data"
    },
    {
     "data": {
      "application/vnd.jupyter.widget-view+json": {
       "model_id": "95214016b3c244d1bbf852b2be0d10b3",
       "version_major": 2,
       "version_minor": 0
      },
      "text/plain": [
       "best entropy [ log2(len(vocab)) ]:  51%|#####1    | 8.0/15.6 [00:00<?, ?bit/s]"
      ]
     },
     "metadata": {},
     "output_type": "display_data"
    }
   ],
   "source": [
    "#cProfile.run('vocab, time_stamps, token_freq_log = Vocabulary.create()')\n",
    "vocab, time_stamps, token_freq_log = Vocabulary.create(ds, no_merge_on_right=ASCII_PUNCTUATION) "
   ]
  },
  {
   "cell_type": "code",
   "execution_count": null,
   "metadata": {},
   "outputs": [],
   "source": [
    "print(f\"Most common tokens: {vocab.most_common()[:10]}\")\n",
    "print(f\"Least common tokens: {vocab.most_common(reverse=True)[:10]}\")"
   ]
  },
  {
   "cell_type": "markdown",
   "metadata": {},
   "source": [
    "### measure vocab entropy on other data"
   ]
  },
  {
   "cell_type": "code",
   "execution_count": 116,
   "metadata": {},
   "outputs": [
    {
     "data": {
      "application/vnd.jupyter.widget-view+json": {
       "model_id": "deb798951b0c4479af12e6283dc21686",
       "version_major": 2,
       "version_minor": 0
      },
      "text/plain": [
       "entropy (measured/predicted): 100%|##########| 11.276/11.276 [00:00<?, ?bit/s]"
      ]
     },
     "metadata": {},
     "output_type": "display_data"
    },
    {
     "data": {
      "application/vnd.jupyter.widget-view+json": {
       "model_id": "723abe89532145cca837c50e22e54b8f",
       "version_major": 2,
       "version_minor": 0
      },
      "text/plain": [
       "examples:   0%|          | 0/100000 [00:00<?, ?example/s]"
      ]
     },
     "metadata": {},
     "output_type": "display_data"
    },
    {
     "name": "stdout",
     "output_type": "stream",
     "text": [
      "Predicted vocabulary entropy: 11.276 bits\n",
      "Measured vocabulary entropy: 11.208 bits\n"
     ]
    }
   ],
   "source": [
    "def entropy(x):\n",
    "    s = sum(x)\n",
    "    if s > 0:\n",
    "        p = np.array(x) / s\n",
    "        with np.errstate(invalid='ignore'):\n",
    "            h = -p * np.log2(p)\n",
    "            h = np.nan_to_num(h).sum()\n",
    "    else:\n",
    "        h = 0\n",
    "    return h\n",
    "\n",
    "def tokenize(text, vocab):\n",
    "    text = bytes(text, 'utf-8')\n",
    "    tokens = []\n",
    "    while text:\n",
    "        for L in range(vocab.max_token_len, 0, -1):\n",
    "            token = text[:L]\n",
    "            if token in vocab:\n",
    "                tokens.append(token)\n",
    "                text = text[len(token):]\n",
    "                break\n",
    "    return tokens\n",
    "\n",
    "def measure_vocab_entropy(vocab, ds, n_examples):\n",
    "    freqs = Counter()\n",
    "    with tqdm(desc=f\"entropy (measured/predicted)\", total=vocab.entropy(precision=3), initial=vocab.entropy(precision=3), unit=\"bit\", leave=True) as entropy_pb:\n",
    "        with tqdm(desc=\"examples\", total=n_examples, unit=\"example\") as examples_pb:\n",
    "            hs = [0]\n",
    "            for example in ds.to_iterable_dataset().shuffle(buffer_size=10_000).take(n_examples):\n",
    "                tokens = tokenize(example['text'], vocab)\n",
    "                freqs.update(tokens)\n",
    "                for t in vocab:\n",
    "                    if t not in freqs:\n",
    "                        freqs[t] = 0\n",
    "                examples_pb.update(1)\n",
    "                h = entropy(list(freqs.values()))\n",
    "                hs.append(h)\n",
    "                entropy_pb.n = round(h, 3)\n",
    "                entropy_pb.refresh()\n",
    "            return h, hs\n",
    "\n",
    "h, progress = measure_vocab_entropy(vocab, ds, 100_000)\n",
    "\n",
    "print(f\"Predicted vocabulary entropy: {vocab.entropy(precision=3)} bits\")\n",
    "print(f\"Measured vocabulary entropy: {h:.3f} bits\")\n"
   ]
  },
  {
   "cell_type": "code",
   "execution_count": 120,
   "metadata": {},
   "outputs": [
    {
     "data": {
      "image/png": "[encoded data removed]",
      "text/plain": [
       "<Figure size 640x480 with 1 Axes>"
      ]
     },
     "metadata": {},
     "output_type": "display_data"
    }
   ],
   "source": [
    "y = np.array(progress) - h\n",
    "y = y[y != 0]\n",
    "x = np.arange(len(y))\n",
    "#plt.plot(x, np.abs(h - hs), label=\"abs(predicted - measured)\")\n",
    "plt.plot(x, y, label=\"f(x) = measured entropy - predicted entropy\")\n",
    "plt.yscale(\"symlog\")\n",
    "plt.xlabel(\"examples\")\n",
    "plt.ylabel(\"Δ entropy (bits)\")\n",
    "plt.title(\"Vocabulary Entropy\")\n",
    "plt.legend()\n",
    "#bound = .025\n",
    "bound = 1/8\n",
    "plt.ylim(-bound, bound)\n",
    "plt.yticks(np.arange(-bound, bound+ bound/4, bound/2))\n",
    "plt.grid()\n",
    "plt.show()"
   ]
  },
  {
   "cell_type": "markdown",
   "metadata": {},
   "source": [
    "### save vocab"
   ]
  },
  {
   "cell_type": "code",
   "execution_count": 121,
   "metadata": {},
   "outputs": [],
   "source": [
    "with open(\"vocab.csv\", 'w') as f:\n",
    "    writer = csv.DictWriter(f, fieldnames=['id', 'token', 'frequency'])\n",
    "    writer.writeheader()\n",
    "    for i, (t, fr) in enumerate(vocab.items()):\n",
    "        writer.writerow({'id':i, 'token': t, 'frequency':fr})\n",
    "\n",
    "with open(\"vocab.csv\", 'r') as f:\n",
    "    reader = csv.DictReader(f)\n",
    "    test_loaded_vocab = Counter({eval(r['token']): int(r['frequency']) for r in reader})\n",
    "\n",
    "assert vocab.items() == test_loaded_vocab.items(), f\"ERROR:\\n{vocab.items()=}\\n{test_loaded_vocab.items()=}\""
   ]
  },
  {
   "cell_type": "markdown",
   "metadata": {},
   "source": [
    "## Visualization"
   ]
  },
  {
   "cell_type": "code",
   "execution_count": 109,
   "metadata": {},
   "outputs": [
    {
     "name": "stderr",
     "output_type": "stream",
     "text": [
      "/var/folders/xs/tqnvbbfn7dg26mmpnqp49fh80000gr/T/ipykernel_75584/2199544765.py:86: UserWarning: Data has no positive values, and therefore cannot be log-scaled.\n",
      "  self.ax.set_yscale('log')\n"
     ]
    },
    {
     "data": {
      "application/vnd.jupyter.widget-view+json": {
       "model_id": "cb3d859588cf4839adf22b6221169711",
       "version_major": 2,
       "version_minor": 0
      },
      "text/plain": [
       "reading data:   0%|          | 0/2081 [00:00<?, ?it/s]"
      ]
     },
     "metadata": {},
     "output_type": "display_data"
    }
   ],
   "source": [
    "# https://stackoverflow.com/questions/9401658/how-to-animate-a-scatter-plot\n",
    "import matplotlib.animation as animation\n",
    "\n",
    "\n",
    "class Animated(object):\n",
    "    def __init__(self, time_stamps, token_freq_log, frame_rate, log_xscale=False, log_yscale=True, fixed_ylim=True, fixed_xlim=True, normalized=True):\n",
    "        if token_freq_log and (max(token_freq_log[0]) == 0):\n",
    "            self.time_stamps, self.token_freq_log = time_stamps[1:], token_freq_log[1:]\n",
    "        else:\n",
    "            self.time_stamps, self.token_freq_log = time_stamps, token_freq_log\n",
    "        self.frame_rate = frame_rate\n",
    "        self.log_xscale = log_xscale\n",
    "        self.log_yscale = log_yscale\n",
    "        self.fixed_xlim = fixed_xlim\n",
    "        self.fixed_ylim = fixed_ylim\n",
    "        self.normalized = normalized\n",
    "        self.t0 = time_stamps[0]\n",
    "\n",
    "        self.stream = self.data_stream(progress=True, desc=\"reading data\", unit=\"it\")\n",
    "\n",
    "        _, xs, ys = zip(*list(self.data_stream(progress=False)))\n",
    "        xs = sum([x.tolist() for x in xs], [])\n",
    "        ys = sum([y.tolist() for y in ys], [])\n",
    "        self.x_max = max(xs)\n",
    "        self.x_min = min(xs)\n",
    "        self.y_max = max(ys)\n",
    "        self.y_min = min(ys)\n",
    "\n",
    "        # Setup the figure and axes...\n",
    "        self.fig, self.ax = plt.subplots()\n",
    "        # Then setup FuncAnimation.\n",
    "        self.ani = animation.FuncAnimation(self.fig, self.update, interval=200, \n",
    "                                          init_func=self.setup_plot, save_count=len(self.time_stamps), blit=True) # init_func=self.update, \n",
    "\n",
    "    def data_stream(self, progress=False, desc=\"generating video\", unit=\"frame\"):\n",
    "        d = zip(self.time_stamps, self.token_freq_log)\n",
    "        if progress:\n",
    "            d = tqdm(d, total=len(self.time_stamps), desc=desc, unit=unit)\n",
    "        try:\n",
    "            for raw_t, raw_freqs in d:\n",
    "                t = round(raw_t - self.t0)\n",
    "                freqs = np.array(sorted(raw_freqs, reverse=True))\n",
    "                if self.log_yscale:\n",
    "                    freqs = freqs.clip(.1)\n",
    "                if self.normalized:\n",
    "                    freqs = freqs / freqs.sum()\n",
    "                x = np.arange(1, len(freqs) + 1)\n",
    "                yield t, x, freqs\n",
    "        finally:\n",
    "            if progress:\n",
    "                d.close()\n",
    "\n",
    "    def setup_plot(self):\n",
    "        return self._render()\n",
    "\n",
    "    def update(self, i=0):\n",
    "        try:\n",
    "            t, x, y = next(self.stream)\n",
    "        except StopIteration:\n",
    "            return []\n",
    "        return self._render(t=t, x=x, y=y)\n",
    "\n",
    "    def _render(self, t=None, y=None, x=None):\n",
    "        for line in self.ax.lines:\n",
    "            line.remove()\n",
    "\n",
    "        if t is None:\n",
    "            t = 0\n",
    "        if y is None:\n",
    "            y = sorted(token_freq_log[0], reverse=True)\n",
    "        if x is None:\n",
    "            x = np.arange(len(y))\n",
    "\n",
    "        m = np.mean(y)\n",
    "\n",
    "        plots = self.ax.plot(x, y, color=\"blue\", label=f'token frequencies')\n",
    "        plots += self.ax.plot(x, [m] * len(x), color=\"orange\", label=f'mean = {m:,.1f}')\n",
    "\n",
    "        self.ax.set_title(f\"{int(t):,}s since start\" + \\\n",
    "                          f\"\\nentropy: {entropy(y):.01f} / {np.log2(len(y)):.01f} / {MAX_ENTROPY:.01f} bits\" + \\\n",
    "                          f\", {len(y)} tokens\")\n",
    "        #self.ax.set_xlabel('token id')\n",
    "        self.ax.set_ylabel('num occurences')\n",
    "        \n",
    "        if self.log_yscale:\n",
    "            self.ax.set_yscale('log')\n",
    "\n",
    "        if self.log_xscale:\n",
    "            self.ax.set_xscale('log')\n",
    "\n",
    "        if self.fixed_xlim:\n",
    "            self.ax.set_xlim(self.x_min, self.x_max)\n",
    "\n",
    "        if self.fixed_ylim:\n",
    "            self.ax.set_ylim(self.y_min, self.y_max)\n",
    "        \n",
    "        self.ax.legend()\n",
    "        \n",
    "        return plots\n",
    "\n",
    "\n",
    "framerate = 8\n",
    "a = Animated(time_stamps, token_freq_log, framerate, log_xscale=False, log_yscale=True, fixed_ylim=False, fixed_xlim=False, normalized=False)\n",
    "#plt.show()\n",
    "a.ani.save('test.mp4', fps=framerate, extra_args=['-vcodec', 'libx264'])\n",
    "#a.ani.save('test.gif', fps=30)\n"
   ]
  }
 ],
 "metadata": {
  "kernelspec": {
   "display_name": "Python 3 (ipykernel)",
   "language": "python",
   "name": "python3"
  },
  "language_info": {
   "codemirror_mode": {
    "name": "ipython",
    "version": 3
   },
   "file_extension": ".py",
   "mimetype": "text/x-python",
   "name": "python",
   "nbconvert_exporter": "python",
   "pygments_lexer": "ipython3",
   "version": "3.11.5"
  }
 },
 "nbformat": 4,
 "nbformat_minor": 4
}
